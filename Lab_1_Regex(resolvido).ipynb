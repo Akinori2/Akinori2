{
  "nbformat": 4,
  "nbformat_minor": 0,
  "metadata": {
    "colab": {
      "provenance": [],
      "authorship_tag": "ABX9TyN4uIhad8RbjKjRPGL32huF",
      "include_colab_link": true
    },
    "kernelspec": {
      "name": "python3",
      "display_name": "Python 3"
    },
    "language_info": {
      "name": "python"
    }
  },
  "cells": [
    {
      "cell_type": "markdown",
      "metadata": {
        "id": "view-in-github",
        "colab_type": "text"
      },
      "source": [
        "<a href=\"https://colab.research.google.com/github/Akinori2/Akinori2/blob/main/Lab_1_Regex(resolvido).ipynb\" target=\"_parent\"><img src=\"https://colab.research.google.com/assets/colab-badge.svg\" alt=\"Open In Colab\"/></a>"
      ]
    },
    {
      "cell_type": "code",
      "execution_count": 8,
      "metadata": {
        "id": "YxKz_DCIrL72"
      },
      "outputs": [],
      "source": [
        "import re"
      ]
    },
    {
      "cell_type": "markdown",
      "source": [
        "Validação da placa de um carro, padrão marcosul"
      ],
      "metadata": {
        "id": "mWAn8a2brXzU"
      }
    },
    {
      "cell_type": "code",
      "source": [
        "def validarPlacaVeiculo(placa):\n",
        "  return re.fullmatch(r\"[A-Z]{3}+[0-9]{1}+[A-Z]{1}+[0-9]{2}\",placa)\n",
        "placa = input(\"Digite o número da placa: \")\n",
        "print(\"placa:\", \"Sua placa é válida ✅\" if validarPlacaVeiculo(placa) else \"Sua placa é inválida ❌\")"
      ],
      "metadata": {
        "colab": {
          "base_uri": "https://localhost:8080/"
        },
        "id": "bWTcelmTrPQZ",
        "outputId": "9cd41c52-b722-4891-f74d-07bfa4429d09"
      },
      "execution_count": 9,
      "outputs": [
        {
          "output_type": "stream",
          "name": "stdout",
          "text": [
            "Digite o número da placa: AAA2A22\n",
            "placa: Sua placa é válida ✅\n"
          ]
        }
      ]
    },
    {
      "cell_type": "markdown",
      "source": [
        "Validar registro geral"
      ],
      "metadata": {
        "id": "yxHaOv2SrZay"
      }
    },
    {
      "cell_type": "code",
      "source": [
        "def validarRegistroGeral(rg):\n",
        "  return re.fullmatch(r\"[0-9]{2}.[0-9]{3}.[0-9]{3}-[0-9]{1}\",rg)\n",
        "rg = input(\"Digite seu RG: \")\n",
        "print(\"RG:\", \"Seu RG é válido ✅\" if validarRegistroGeral(rg) else \"Seu RG é inválido ❌\")"
      ],
      "metadata": {
        "id": "0gAD-Uz_rSSG",
        "colab": {
          "base_uri": "https://localhost:8080/"
        },
        "outputId": "d345290a-1b60-4fbc-ce1f-318c016fc2f1"
      },
      "execution_count": 10,
      "outputs": [
        {
          "output_type": "stream",
          "name": "stdout",
          "text": [
            "Digite seu RG: 22.222.222-2\n",
            "RG: Seu RG é válido ✅\n"
          ]
        }
      ]
    },
    {
      "cell_type": "markdown",
      "source": [
        "Validação de data de nascimento"
      ],
      "metadata": {
        "id": "y7zLal8hrf4H"
      }
    },
    {
      "cell_type": "code",
      "source": [
        "def validarDataNascimento(data):\n",
        "  return re.fullmatch(r\"[0-9]{2}/[0-9]{2}/[0-9]{4}\",data)\n",
        "data = input(\"Digite sua data de nascimento: \")\n",
        "print(\"dataNasc:\", \"Data válida ✅\" if validarDataNascimento(data) else \"Data inválida ❌\")"
      ],
      "metadata": {
        "id": "SLVTHeaNrVU8",
        "colab": {
          "base_uri": "https://localhost:8080/"
        },
        "outputId": "1c16b6a6-cc78-4343-97a3-ce07807f5393"
      },
      "execution_count": 11,
      "outputs": [
        {
          "output_type": "stream",
          "name": "stdout",
          "text": [
            "Digite sua data de nascimento: 22/03/2005\n",
            "dataNasc: Data válida ✅\n"
          ]
        }
      ]
    }
  ]
}